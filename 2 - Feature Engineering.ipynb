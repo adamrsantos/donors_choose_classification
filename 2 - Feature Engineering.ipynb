{
 "cells": [
  {
   "cell_type": "markdown",
   "metadata": {},
   "source": [
    "# Donors Choose Feature Engineering"
   ]
  },
  {
   "cell_type": "markdown",
   "metadata": {},
   "source": [
    "The purpose of this notebook is to systematically add features to models and perform analysis to judge their effect on the models."
   ]
  },
  {
   "cell_type": "code",
   "execution_count": 1,
   "metadata": {},
   "outputs": [],
   "source": [
    "import pandas as pd\n",
    "import numpy as np\n",
    "\n",
    "import matplotlib.pyplot as plt\n",
    "import seaborn as sns\n",
    "plt.style.use('bmh')\n",
    "\n",
    "%matplotlib inline\n",
    "\n",
    "from sklearn.linear_model import LogisticRegression\n",
    "from sklearn.model_selection import train_test_split\n",
    "from sklearn.metrics import precision_score, recall_score, accuracy_score, roc_auc_score,f1_score\n",
    "from sklearn.preprocessing import StandardScaler\n",
    "import pickle"
   ]
  },
  {
   "cell_type": "markdown",
   "metadata": {},
   "source": [
    "Load Datasets"
   ]
  },
  {
   "cell_type": "code",
   "execution_count": 2,
   "metadata": {},
   "outputs": [],
   "source": [
    "projects = pd.read_csv('Data/Projects.csv')\n",
    "teachers = pd.read_csv('Data/Teachers.csv')\n",
    "schools = pd.read_csv('Data/Schools.csv')\n",
    "#donors=pd.read_csv('Data/Donors.csv')\n",
    "#donations=pd.read_csv('Data/Donations.csv')"
   ]
  },
  {
   "cell_type": "markdown",
   "metadata": {},
   "source": [
    "Drop all projects that have not been concluded"
   ]
  },
  {
   "cell_type": "code",
   "execution_count": 3,
   "metadata": {},
   "outputs": [],
   "source": [
    "projects = projects[projects[\"Project Current Status\"] != 'Live']"
   ]
  },
  {
   "cell_type": "markdown",
   "metadata": {},
   "source": [
    "Drop projects that were duplicates"
   ]
  },
  {
   "cell_type": "code",
   "execution_count": 4,
   "metadata": {},
   "outputs": [],
   "source": [
    "#projects.loc[projects['Project ID'] == 'c940d0e78b7559573aca536db90c0646']\n",
    "#projects.loc[projects['Project ID'] == '99c07777fdcf63d3a0fdb4a0deb4b012']\n",
    "projects=projects.drop([1041063])\n",
    "\n",
    "projects=projects.drop([983393])"
   ]
  },
  {
   "cell_type": "markdown",
   "metadata": {},
   "source": [
    "### Part 1: Project Level Features Baseline"
   ]
  },
  {
   "cell_type": "markdown",
   "metadata": {},
   "source": [
    "Features Added in this section (7): Month of project posted, Project Cost, Teacher Project Number, Project Type, Project Subject, Project Grade Level, Project Supplies Type  "
   ]
  },
  {
   "cell_type": "markdown",
   "metadata": {},
   "source": [
    "Part 1a: Organize data to use in model\n",
    "Dummy variables were used to vectorize categorical variables"
   ]
  },
  {
   "cell_type": "code",
   "execution_count": 5,
   "metadata": {},
   "outputs": [],
   "source": [
    "projects['month'] = pd.DatetimeIndex(projects['Project Posted Date']).month"
   ]
  },
  {
   "cell_type": "code",
   "execution_count": 6,
   "metadata": {},
   "outputs": [],
   "source": [
    "#project_type_dummies = pd.get_dummies(projects['Project Type'])\n",
    "main_df = pd.get_dummies(data=projects, columns=['Project Type', \n",
    "                                                 'Project Subject Category Tree',\n",
    "                                                 'Project Grade Level Category',\n",
    "                                                'Project Resource Category'])"
   ]
  },
  {
   "cell_type": "code",
   "execution_count": 7,
   "metadata": {
    "scrolled": false
   },
   "outputs": [],
   "source": [
    "main_df['Funded?']=np.where(projects['Project Current Status']=='Fully Funded', 0, 1)\n"
   ]
  },
  {
   "cell_type": "code",
   "execution_count": 8,
   "metadata": {},
   "outputs": [],
   "source": [
    "main_df.drop(['Project Title',\n",
    "             'Project Essay','Project Short Description','Project Need Statement',\n",
    "              'Project Subject Subcategory Tree', 'Project Posted Date',\n",
    "             'Project Expiration Date','Project Current Status','Project Fully Funded Date'],axis='columns',inplace=True)"
   ]
  },
  {
   "cell_type": "markdown",
   "metadata": {},
   "source": [
    "Part 1b: Fit a simple logistic model to get a baseline model"
   ]
  },
  {
   "cell_type": "code",
   "execution_count": 9,
   "metadata": {},
   "outputs": [],
   "source": [
    "X_train, X_val, y_train, y_val = train_test_split(main_df.drop(['Funded?','Project ID','School ID','Teacher ID',],axis='columns'),main_df['Funded?'],test_size=0.2,random_state=42)"
   ]
  },
  {
   "cell_type": "code",
   "execution_count": 10,
   "metadata": {},
   "outputs": [
    {
     "name": "stderr",
     "output_type": "stream",
     "text": [
      "/anaconda3/lib/python3.6/site-packages/sklearn/linear_model/logistic.py:432: FutureWarning: Default solver will be changed to 'lbfgs' in 0.22. Specify a solver to silence this warning.\n",
      "  FutureWarning)\n"
     ]
    }
   ],
   "source": [
    "lr_model = LogisticRegression()\n",
    "lr_model.fit(X_train,y_train)\n",
    "y_pred = lr_model.predict(X_val)\n",
    "\n",
    "y_pred_tr = lr_model.predict(X_train)"
   ]
  },
  {
   "cell_type": "code",
   "execution_count": 11,
   "metadata": {},
   "outputs": [
    {
     "name": "stdout",
     "output_type": "stream",
     "text": [
      "Train Logistic Accuracy: 0.7761508944672575\n",
      "Train Logistic Recall: 0.054691672326988586\n",
      "Train Logistic Precision: 0.5403965367078232\n",
      "Train Logistic F1: 0.09933045173319772\n",
      "Test Logistic Accuracy: 0.7745807061643099\n",
      "Test Logistic Recall: 0.05482189579513381\n",
      "Test Logistic Precision: 0.5386639676113361\n",
      "Test Logistic F1: 0.09951569775051888\n"
     ]
    }
   ],
   "source": [
    "print(\"Train Logistic Accuracy: \"+str(accuracy_score(y_train, y_pred_tr)))\n",
    "print(\"Train Logistic Recall: \"+str(recall_score(y_train, y_pred_tr)))\n",
    "print(\"Train Logistic Precision: \"+str(precision_score(y_train, y_pred_tr)))\n",
    "print(\"Train Logistic F1: \"+str(f1_score(y_train, y_pred_tr)))\n",
    "\n",
    "print(\"Test Logistic Accuracy: \"+str(accuracy_score(y_val, y_pred)))\n",
    "print(\"Test Logistic Recall: \"+str(recall_score(y_val, y_pred)))\n",
    "print(\"Test Logistic Precision: \"+str(precision_score(y_val, y_pred)))\n",
    "print(\"Test Logistic F1: \"+str(f1_score(y_val, y_pred)))"
   ]
  },
  {
   "cell_type": "markdown",
   "metadata": {},
   "source": [
    "This is a good starting place to evaluate future models"
   ]
  },
  {
   "cell_type": "markdown",
   "metadata": {},
   "source": [
    "### Part 2: Add Teacher and School Features"
   ]
  },
  {
   "cell_type": "markdown",
   "metadata": {},
   "source": [
    "Additional features Added in this section (4): Teacher Prefix, School Metro Area Type, School Percentage Free Lunch, School State"
   ]
  },
  {
   "cell_type": "markdown",
   "metadata": {},
   "source": [
    "Part 2a: Organize additional data for use in model"
   ]
  },
  {
   "cell_type": "code",
   "execution_count": 12,
   "metadata": {},
   "outputs": [
    {
     "name": "stdout",
     "output_type": "stream",
     "text": [
      "<class 'pandas.core.frame.DataFrame'>\n",
      "RangeIndex: 72993 entries, 0 to 72992\n",
      "Data columns (total 9 columns):\n",
      "School ID                       72993 non-null object\n",
      "School Name                     72993 non-null object\n",
      "School Metro Type               72993 non-null object\n",
      "School Percentage Free Lunch    71852 non-null float64\n",
      "School State                    72993 non-null object\n",
      "School Zip                      72993 non-null int64\n",
      "School City                     72766 non-null object\n",
      "School County                   72991 non-null object\n",
      "School District                 72993 non-null object\n",
      "dtypes: float64(1), int64(1), object(7)\n",
      "memory usage: 5.0+ MB\n"
     ]
    }
   ],
   "source": [
    "schools.info()"
   ]
  },
  {
   "cell_type": "code",
   "execution_count": 13,
   "metadata": {},
   "outputs": [],
   "source": [
    "projects2 = projects.merge(teachers,how='left',on='Teacher ID')"
   ]
  },
  {
   "cell_type": "code",
   "execution_count": 14,
   "metadata": {},
   "outputs": [],
   "source": [
    "projects2 = projects2.merge(schools,how='left',on='School ID')"
   ]
  },
  {
   "cell_type": "code",
   "execution_count": 15,
   "metadata": {},
   "outputs": [],
   "source": [
    "dummies2 = pd.get_dummies(data=projects2, columns=['School Metro Type', \n",
    "                                                 'Teacher Prefix',\n",
    "                                                 'School State'])"
   ]
  },
  {
   "cell_type": "code",
   "execution_count": 16,
   "metadata": {},
   "outputs": [],
   "source": [
    "dummies2.drop(dummies2.iloc[:, 1:18], axis=1, inplace=True)\n",
    "dummies2.drop(dummies2.iloc[:, 2:4], axis=1, inplace=True)\n",
    "dummies2.drop(dummies2.iloc[:, 3:7], axis=1, inplace=True)\n",
    "#dummies2.info()"
   ]
  },
  {
   "cell_type": "code",
   "execution_count": 17,
   "metadata": {},
   "outputs": [],
   "source": [
    "main_df = main_df.merge(dummies2,how='left',on='Project ID')"
   ]
  },
  {
   "cell_type": "code",
   "execution_count": 18,
   "metadata": {},
   "outputs": [],
   "source": [
    "main_df['School Percentage Free Lunch']=main_df['School Percentage Free Lunch'].fillna(main_df['School Percentage Free Lunch'].mean())"
   ]
  },
  {
   "cell_type": "markdown",
   "metadata": {},
   "source": [
    "Part 2b: Create models to evaluate effect of adding these features"
   ]
  },
  {
   "cell_type": "code",
   "execution_count": 19,
   "metadata": {},
   "outputs": [],
   "source": [
    "X_train, X_val, y_train, y_val = train_test_split(main_df.drop(['Funded?','Project ID','School ID','Teacher ID',],\n",
    "                                                               axis='columns'),main_df['Funded?'],\n",
    "                                                  test_size=0.2,random_state=42)"
   ]
  },
  {
   "cell_type": "code",
   "execution_count": 20,
   "metadata": {},
   "outputs": [
    {
     "name": "stderr",
     "output_type": "stream",
     "text": [
      "/anaconda3/lib/python3.6/site-packages/sklearn/linear_model/logistic.py:432: FutureWarning: Default solver will be changed to 'lbfgs' in 0.22. Specify a solver to silence this warning.\n",
      "  FutureWarning)\n"
     ]
    }
   ],
   "source": [
    "lr_model2 = LogisticRegression()\n",
    "lr_model2.fit(X_train,y_train)\n",
    "y_pred2 = lr_model2.predict(X_val)\n",
    "\n",
    "y_pred_tr2 = lr_model2.predict(X_train)"
   ]
  },
  {
   "cell_type": "markdown",
   "metadata": {},
   "source": [
    "Save model for future use"
   ]
  },
  {
   "cell_type": "code",
   "execution_count": 21,
   "metadata": {},
   "outputs": [],
   "source": [
    "filename = 'Data/logistic_model_app.sav'\n",
    "pickle.dump(lr_model2, open(filename, 'wb'))\n",
    "filename2 = 'Xcols_app'\n",
    "pickle.dump(X_train.columns, open(filename2, 'wb'))"
   ]
  },
  {
   "cell_type": "code",
   "execution_count": 7,
   "metadata": {},
   "outputs": [],
   "source": [
    "coef_list = list(zip(lr_model2.coef_[0], X_train.columns))\n",
    "sorted_coef_list = sorted(coef_list, key=lambda tup: tup[0])\n",
    "sorted_coef_list"
   ]
  },
  {
   "cell_type": "code",
   "execution_count": 75,
   "metadata": {},
   "outputs": [
    {
     "name": "stdout",
     "output_type": "stream",
     "text": [
      "Train Logistic Accuracy: 0.778369655401618\n",
      "Train Logistic Recall: 0.06972825269751066\n",
      "Train Logistic Precision: 0.5741365324680869\n",
      "Train Logistic F1: 0.12435386479013896\n",
      "Test Logistic Accuracy: 0.7769305303955849\n",
      "Test Logistic Recall: 0.0693669008426214\n",
      "Test Logistic Precision: 0.5755555555555556\n",
      "Test Logistic F1: 0.12381180018018348\n"
     ]
    }
   ],
   "source": [
    "print(\"Train Logistic Accuracy: \"+str(accuracy_score(y_train, y_pred_tr2)))\n",
    "print(\"Train Logistic Recall: \"+str(recall_score(y_train, y_pred_tr2)))\n",
    "print(\"Train Logistic Precision: \"+str(precision_score(y_train, y_pred_tr2)))\n",
    "print(\"Train Logistic F1: \"+str(f1_score(y_train, y_pred_tr2)))\n",
    "\n",
    "print(\"Test Logistic Accuracy: \"+str(accuracy_score(y_val, y_pred2)))\n",
    "print(\"Test Logistic Recall: \"+str(recall_score(y_val, y_pred2)))\n",
    "print(\"Test Logistic Precision: \"+str(precision_score(y_val, y_pred2)))\n",
    "print(\"Test Logistic F1: \"+str(f1_score(y_val, y_pred2)))"
   ]
  },
  {
   "cell_type": "markdown",
   "metadata": {},
   "source": [
    "### Part 3: Text Features"
   ]
  },
  {
   "cell_type": "markdown",
   "metadata": {},
   "source": [
    "Additional features Added in this section (6): Project Title, Project Essay, Student Need Description, Project Title Length, Project Essay Length, Student Need Description Length"
   ]
  },
  {
   "cell_type": "markdown",
   "metadata": {},
   "source": [
    "Part 3a: Create text features and add to features from parts 1 and 2 for use in model"
   ]
  },
  {
   "cell_type": "code",
   "execution_count": 76,
   "metadata": {},
   "outputs": [
    {
     "name": "stdout",
     "output_type": "stream",
     "text": [
      "<class 'pandas.core.frame.DataFrame'>\n",
      "Int64Index: 1068164 entries, 0 to 1110014\n",
      "Data columns (total 19 columns):\n",
      "Project ID                          1068164 non-null object\n",
      "School ID                           1068164 non-null object\n",
      "Teacher ID                          1068164 non-null object\n",
      "Teacher Project Posted Sequence     1068164 non-null int64\n",
      "Project Type                        1068164 non-null object\n",
      "Project Title                       1068158 non-null object\n",
      "Project Essay                       1068163 non-null object\n",
      "Project Short Description           1068161 non-null object\n",
      "Project Need Statement              1068161 non-null object\n",
      "Project Subject Category Tree       1068135 non-null object\n",
      "Project Subject Subcategory Tree    1068135 non-null object\n",
      "Project Grade Level Category        1068164 non-null object\n",
      "Project Resource Category           1068128 non-null object\n",
      "Project Cost                        1068164 non-null float64\n",
      "Project Posted Date                 1068164 non-null object\n",
      "Project Expiration Date             1068150 non-null object\n",
      "Project Current Status              1068164 non-null object\n",
      "Project Fully Funded Date           826762 non-null object\n",
      "month                               1068164 non-null int64\n",
      "dtypes: float64(1), int64(2), object(16)\n",
      "memory usage: 163.0+ MB\n"
     ]
    }
   ],
   "source": [
    "projects.info()"
   ]
  },
  {
   "cell_type": "code",
   "execution_count": 77,
   "metadata": {},
   "outputs": [],
   "source": [
    "text_features = projects[['Project ID','Project Title','Project Essay','Project Need Statement']]"
   ]
  },
  {
   "cell_type": "code",
   "execution_count": 78,
   "metadata": {},
   "outputs": [
    {
     "data": {
      "text/html": [
       "<div>\n",
       "<style scoped>\n",
       "    .dataframe tbody tr th:only-of-type {\n",
       "        vertical-align: middle;\n",
       "    }\n",
       "\n",
       "    .dataframe tbody tr th {\n",
       "        vertical-align: top;\n",
       "    }\n",
       "\n",
       "    .dataframe thead th {\n",
       "        text-align: right;\n",
       "    }\n",
       "</style>\n",
       "<table border=\"1\" class=\"dataframe\">\n",
       "  <thead>\n",
       "    <tr style=\"text-align: right;\">\n",
       "      <th></th>\n",
       "      <th>Project ID</th>\n",
       "      <th>Project Title</th>\n",
       "      <th>Project Essay</th>\n",
       "      <th>Project Need Statement</th>\n",
       "    </tr>\n",
       "  </thead>\n",
       "  <tbody>\n",
       "    <tr>\n",
       "      <th>0</th>\n",
       "      <td>7685f0265a19d7b52a470ee4bac883ba</td>\n",
       "      <td>Stand Up to Bullying: Together We Can!</td>\n",
       "      <td>Did you know that 1-7 students in grades K-12 ...</td>\n",
       "      <td>My students need 25 copies of \"Bullying in Sch...</td>\n",
       "    </tr>\n",
       "    <tr>\n",
       "      <th>1</th>\n",
       "      <td>f9f4af7099061fb4bf44642a03e5c331</td>\n",
       "      <td>Learning in Color!</td>\n",
       "      <td>Help us have a fun, interactive listening cent...</td>\n",
       "      <td>My students need a listening center, read alon...</td>\n",
       "    </tr>\n",
       "    <tr>\n",
       "      <th>2</th>\n",
       "      <td>afd99a01739ad5557b51b1ba0174e832</td>\n",
       "      <td>Help Second Grade ESL Students Develop Languag...</td>\n",
       "      <td>Visiting or moving to a new place can be very ...</td>\n",
       "      <td>My students need beginning vocabulary audio ca...</td>\n",
       "    </tr>\n",
       "    <tr>\n",
       "      <th>3</th>\n",
       "      <td>c614a38bb1a5e68e2ae6ad9d94bb2492</td>\n",
       "      <td>Help Bilingual Students Strengthen Reading Com...</td>\n",
       "      <td>Students at our school are still working hard ...</td>\n",
       "      <td>My students need one copy of each book in The ...</td>\n",
       "    </tr>\n",
       "    <tr>\n",
       "      <th>4</th>\n",
       "      <td>ec82a697fab916c0db0cdad746338df9</td>\n",
       "      <td>Help Us Make Each Minute Count!</td>\n",
       "      <td>\"Idle hands\" were something that Issac Watts s...</td>\n",
       "      <td>My students need items such as Velcro, two pou...</td>\n",
       "    </tr>\n",
       "  </tbody>\n",
       "</table>\n",
       "</div>"
      ],
      "text/plain": [
       "                         Project ID  \\\n",
       "0  7685f0265a19d7b52a470ee4bac883ba   \n",
       "1  f9f4af7099061fb4bf44642a03e5c331   \n",
       "2  afd99a01739ad5557b51b1ba0174e832   \n",
       "3  c614a38bb1a5e68e2ae6ad9d94bb2492   \n",
       "4  ec82a697fab916c0db0cdad746338df9   \n",
       "\n",
       "                                       Project Title  \\\n",
       "0             Stand Up to Bullying: Together We Can!   \n",
       "1                                 Learning in Color!   \n",
       "2  Help Second Grade ESL Students Develop Languag...   \n",
       "3  Help Bilingual Students Strengthen Reading Com...   \n",
       "4                   Help Us Make Each Minute Count!    \n",
       "\n",
       "                                       Project Essay  \\\n",
       "0  Did you know that 1-7 students in grades K-12 ...   \n",
       "1  Help us have a fun, interactive listening cent...   \n",
       "2  Visiting or moving to a new place can be very ...   \n",
       "3  Students at our school are still working hard ...   \n",
       "4  \"Idle hands\" were something that Issac Watts s...   \n",
       "\n",
       "                              Project Need Statement  \n",
       "0  My students need 25 copies of \"Bullying in Sch...  \n",
       "1  My students need a listening center, read alon...  \n",
       "2  My students need beginning vocabulary audio ca...  \n",
       "3  My students need one copy of each book in The ...  \n",
       "4  My students need items such as Velcro, two pou...  "
      ]
     },
     "execution_count": 78,
     "metadata": {},
     "output_type": "execute_result"
    }
   ],
   "source": [
    "text_features.head()"
   ]
  },
  {
   "cell_type": "code",
   "execution_count": 79,
   "metadata": {},
   "outputs": [],
   "source": [
    "text_features = text_features.fillna('')"
   ]
  },
  {
   "cell_type": "code",
   "execution_count": 80,
   "metadata": {},
   "outputs": [],
   "source": [
    "text_features['Project Title Length']=text_features['Project Title'].map(str).apply(len)\n",
    "text_features['Project Essay Length']=text_features['Project Essay'].map(str).apply(len)\n",
    "text_features['Project Need Staement Length']=text_features['Project Need Statement'].map(str).apply(len)"
   ]
  },
  {
   "cell_type": "code",
   "execution_count": 81,
   "metadata": {},
   "outputs": [],
   "source": [
    "main_df = main_df.merge(text_features.drop(['Project Title','Project Essay','Project Need Statement'],axis='columns'),how='left',on='Project ID')"
   ]
  },
  {
   "cell_type": "code",
   "execution_count": 82,
   "metadata": {},
   "outputs": [],
   "source": [
    "from sklearn.feature_extraction.text import TfidfVectorizer\n",
    "\n",
    "tfidf_vect1 = TfidfVectorizer(max_features=500)\n",
    "tfidf_vect2 = TfidfVectorizer(max_features=500)\n",
    "tfidf_vect3 = TfidfVectorizer(max_features=500)\n",
    "\n",
    "word_freqs_titles = tfidf_vect1.fit_transform(text_features['Project Title'])\n",
    "word_freqs_essays = tfidf_vect2.fit_transform(text_features['Project Essay'])\n",
    "word_freqs_needs = tfidf_vect3.fit_transform(text_features['Project Need Statement'])\n"
   ]
  },
  {
   "cell_type": "code",
   "execution_count": 83,
   "metadata": {},
   "outputs": [],
   "source": [
    "from scipy.sparse import hstack\n",
    "use_in_models = hstack((word_freqs_titles,main_df.drop(['Project ID', 'School ID', 'Teacher ID','Funded?'],axis='columns').values))\n",
    "\n",
    "use_in_models=hstack((use_in_models,word_freqs_essays))\n",
    "\n",
    "use_in_models=hstack((use_in_models,word_freqs_needs))"
   ]
  },
  {
   "cell_type": "code",
   "execution_count": 38,
   "metadata": {},
   "outputs": [],
   "source": [
    "with open('Data/word_freqs_needs.pkl', 'wb') as picklefile:\n",
    "    pickle.dump(word_freqs_needs, picklefile)\n",
    "with open('Data/word_freqs_essays.pkl', 'wb') as picklefile:\n",
    "    pickle.dump(word_freqs_essays, picklefile)\n",
    "with open('Data/word_freqs_titles.pkl', 'wb') as picklefile:\n",
    "    pickle.dump(word_freqs_titles, picklefile)"
   ]
  },
  {
   "cell_type": "markdown",
   "metadata": {},
   "source": [
    "Create logistic model to evaluate effect of adding text features"
   ]
  },
  {
   "cell_type": "code",
   "execution_count": 84,
   "metadata": {},
   "outputs": [],
   "source": [
    "X_train, X_val, y_train, y_val = train_test_split(use_in_models,main_df['Funded?'],\n",
    "                                                  test_size=0.2,random_state=42)"
   ]
  },
  {
   "cell_type": "code",
   "execution_count": 85,
   "metadata": {},
   "outputs": [
    {
     "name": "stderr",
     "output_type": "stream",
     "text": [
      "/anaconda3/lib/python3.6/site-packages/sklearn/linear_model/logistic.py:432: FutureWarning: Default solver will be changed to 'lbfgs' in 0.22. Specify a solver to silence this warning.\n",
      "  FutureWarning)\n"
     ]
    }
   ],
   "source": [
    "lr_model3 = LogisticRegression()\n",
    "lr_model3.fit(X_train,y_train)\n",
    "y_pred3 = lr_model3.predict(X_val)\n",
    "y_pred_tr3 = lr_model3.predict(X_train)"
   ]
  },
  {
   "cell_type": "code",
   "execution_count": 86,
   "metadata": {},
   "outputs": [
    {
     "name": "stdout",
     "output_type": "stream",
     "text": [
      "Train Logistic Accuracy: 0.779681486101733\n",
      "Train Logistic Recall: 0.07739690868647693\n",
      "Train Logistic Precision: 0.5909342834520982\n",
      "Train Logistic F1: 0.13686773059237217\n",
      "Test Logistic Accuracy: 0.7782879985769988\n",
      "Test Logistic Recall: 0.07606254764210223\n",
      "Test Logistic Precision: 0.5945249597423511\n",
      "Test Logistic F1: 0.13487004328846192\n"
     ]
    }
   ],
   "source": [
    "print(\"Train Logistic Accuracy: \"+str(accuracy_score(y_train, y_pred_tr3)))\n",
    "print(\"Train Logistic Recall: \"+str(recall_score(y_train, y_pred_tr3)))\n",
    "print(\"Train Logistic Precision: \"+str(precision_score(y_train, y_pred_tr3)))\n",
    "print(\"Train Logistic F1: \"+str(f1_score(y_train, y_pred_tr3)))\n",
    "\n",
    "print(\"Test Logistic Accuracy: \"+str(accuracy_score(y_val, y_pred3)))\n",
    "print(\"Test Logistic Recall: \"+str(recall_score(y_val, y_pred3)))\n",
    "print(\"Test Logistic Precision: \"+str(precision_score(y_val, y_pred3)))\n",
    "print(\"Test Logistic F1: \"+str(f1_score(y_val, y_pred3)))"
   ]
  },
  {
   "cell_type": "markdown",
   "metadata": {},
   "source": [
    "### Part 4: Addressing Class Imbalance"
   ]
  },
  {
   "cell_type": "markdown",
   "metadata": {},
   "source": [
    "Because the target classes are relatively imbalanced, I will try to adjust class weights and decision threshold to see if that improves my scores"
   ]
  },
  {
   "cell_type": "code",
   "execution_count": 47,
   "metadata": {},
   "outputs": [
    {
     "name": "stderr",
     "output_type": "stream",
     "text": [
      "/anaconda3/lib/python3.6/site-packages/sklearn/linear_model/logistic.py:432: FutureWarning: Default solver will be changed to 'lbfgs' in 0.22. Specify a solver to silence this warning.\n",
      "  FutureWarning)\n"
     ]
    },
    {
     "name": "stdout",
     "output_type": "stream",
     "text": [
      "0.4732338530688591 3.6666666666666665\n"
     ]
    }
   ],
   "source": [
    "weights = np.linspace(1,4,10)\n",
    "scores=[]\n",
    "for weight in weights:\n",
    "\n",
    "    lr_model3 = LogisticRegression(class_weight={1:weight,0:1})\n",
    "    lr_model3.fit(X_train,y_train)\n",
    "    y_pred3 = lr_model3.predict(X_val)\n",
    "    y_pred_tr3 = lr_model3.predict(X_train)\n",
    "    \n",
    "    scores.append(f1_score(y_val, y_pred3))\n",
    "\n",
    "best = np.max(scores) \n",
    "best_weight = weights[np.argmax(scores)]\n",
    "\n",
    "print(best,best_weight)"
   ]
  },
  {
   "cell_type": "code",
   "execution_count": 159,
   "metadata": {},
   "outputs": [
    {
     "name": "stdout",
     "output_type": "stream",
     "text": [
      "Logistic Regression Model best F1 score 0.463 at prob decision threshold >= 0.498\n"
     ]
    },
    {
     "data": {
      "image/png": "[encoded data removed]",
      "text/plain": [
       "<Figure size 432x288 with 1 Axes>"
      ]
     },
     "metadata": {},
     "output_type": "display_data"
    }
   ],
   "source": [
    "thresh_ps = np.linspace(.10,.50,1000)\n",
    "model_val_probs = lr_model3.predict_proba(X_val)[:,1] # positive class probs, same basic logistic model we fit in section 2 \n",
    "\n",
    "f1_scores = []\n",
    "for p in thresh_ps:\n",
    "    model_val_labels = model_val_probs >= p\n",
    "    f1_scores.append(f1_score(model_val_labels, y_val))\n",
    "    \n",
    "plt.plot(thresh_ps, f1_scores)\n",
    "plt.title('F1 Score vs. Positive Class Decision Probability Threshold')\n",
    "plt.xlabel('P threshold')\n",
    "plt.ylabel('F1 score')\n",
    "\n",
    "best_f1_score = np.max(f1_scores) \n",
    "best_thresh_p = thresh_ps[np.argmax(f1_scores)]\n",
    "\n",
    "print('Logistic Regression Model best F1 score %.3f at prob decision threshold >= %.3f' \n",
    "      % (best_f1_score, best_thresh_p))"
   ]
  },
  {
   "cell_type": "code",
   "execution_count": null,
   "metadata": {},
   "outputs": [],
   "source": []
  }
 ],
 "metadata": {
  "kernelspec": {
   "display_name": "Python 3",
   "language": "python",
   "name": "python3"
  },
  "language_info": {
   "codemirror_mode": {
    "name": "ipython",
    "version": 3
   },
   "file_extension": ".py",
   "mimetype": "text/x-python",
   "name": "python",
   "nbconvert_exporter": "python",
   "pygments_lexer": "ipython3",
   "version": "3.6.5"
  }
 },
 "nbformat": 4,
 "nbformat_minor": 2
}
