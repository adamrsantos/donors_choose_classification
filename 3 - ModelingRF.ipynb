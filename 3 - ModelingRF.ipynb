{
 "cells": [
  {
   "cell_type": "markdown",
   "metadata": {},
   "source": [
    "# Random Forest Model"
   ]
  },
  {
   "cell_type": "markdown",
   "metadata": {},
   "source": [
    "The purpose of this notebook is to train a random forest model on to predict if a donors choose project will be funded or not."
   ]
  },
  {
   "cell_type": "code",
   "execution_count": 1,
   "metadata": {},
   "outputs": [],
   "source": [
    "import pandas as pd\n",
    "import numpy as np\n",
    "\n",
    "import matplotlib.pyplot as plt\n",
    "import seaborn as sns\n",
    "plt.style.use('bmh')\n",
    "\n",
    "%matplotlib inline\n",
    "\n",
    "from sklearn.linear_model import LogisticRegression\n",
    "from sklearn.model_selection import train_test_split\n",
    "from sklearn.metrics import precision_score, recall_score, accuracy_score, roc_auc_score,f1_score\n",
    "from sklearn.preprocessing import StandardScaler\n",
    "import pickle"
   ]
  },
  {
   "cell_type": "markdown",
   "metadata": {},
   "source": [
    "Load engineered features and text data"
   ]
  },
  {
   "cell_type": "code",
   "execution_count": 2,
   "metadata": {},
   "outputs": [],
   "source": [
    "with open('Data/main_df.pkl', 'rb') as f:\n",
    "    main_df = pickle.load(f)"
   ]
  },
  {
   "cell_type": "code",
   "execution_count": 3,
   "metadata": {},
   "outputs": [],
   "source": [
    "with open('Data/word_freqs_titles.pkl', 'rb') as f:\n",
    "    word_freqs_titles = pickle.load(f)"
   ]
  },
  {
   "cell_type": "code",
   "execution_count": 4,
   "metadata": {},
   "outputs": [],
   "source": [
    "with open('Data/word_freqs_essays.pkl', 'rb') as f:\n",
    "    word_freqs_essays = pickle.load(f)"
   ]
  },
  {
   "cell_type": "code",
   "execution_count": 5,
   "metadata": {},
   "outputs": [],
   "source": [
    "with open('Data/word_freqs_needs.pkl', 'rb') as f:\n",
    "    word_freqs_needs = pickle.load(f)"
   ]
  },
  {
   "cell_type": "markdown",
   "metadata": {},
   "source": [
    "Combine text and non text features"
   ]
  },
  {
   "cell_type": "code",
   "execution_count": 6,
   "metadata": {},
   "outputs": [],
   "source": [
    "from scipy.sparse import hstack\n",
    "use_in_models = hstack((word_freqs_titles,main_df.drop(['Project ID', 'School ID', 'Teacher ID','Funded?'],axis='columns').values))\n",
    "\n",
    "use_in_models=hstack((use_in_models,word_freqs_essays))\n",
    "\n",
    "use_in_models=hstack((use_in_models,word_freqs_needs))"
   ]
  },
  {
   "cell_type": "markdown",
   "metadata": {},
   "source": [
    "Split data into train, validation, and test sets"
   ]
  },
  {
   "cell_type": "code",
   "execution_count": 7,
   "metadata": {},
   "outputs": [],
   "source": [
    "X_train_whole, X_test, y_train_whole, y_test = train_test_split(use_in_models,main_df['Funded?'],\n",
    "                                                  test_size=0.2,random_state=42)"
   ]
  },
  {
   "cell_type": "code",
   "execution_count": 26,
   "metadata": {},
   "outputs": [],
   "source": [
    "X_train, X_val, y_train, y_val = train_test_split(X_train_whole,y_train_whole,\n",
    "                                                  test_size=0.2,random_state=42)"
   ]
  },
  {
   "cell_type": "markdown",
   "metadata": {},
   "source": [
    "### Random Forest"
   ]
  },
  {
   "cell_type": "markdown",
   "metadata": {},
   "source": [
    "The following code trains a random forest classifier and cross validates to find best parameters"
   ]
  },
  {
   "cell_type": "code",
   "execution_count": 22,
   "metadata": {},
   "outputs": [
    {
     "data": {
      "text/plain": [
       "RandomForestClassifier(bootstrap=True, class_weight={1: 3.67, 0: 1},\n",
       "            criterion='gini', max_depth=12, max_features='auto',\n",
       "            max_leaf_nodes=None, min_impurity_decrease=0.0,\n",
       "            min_impurity_split=None, min_samples_leaf=1,\n",
       "            min_samples_split=2, min_weight_fraction_leaf=0.0,\n",
       "            n_estimators=300, n_jobs=-1, oob_score=False,\n",
       "            random_state=None, verbose=0, warm_start=False)"
      ]
     },
     "execution_count": 22,
     "metadata": {},
     "output_type": "execute_result"
    }
   ],
   "source": [
    "from sklearn.ensemble import RandomForestClassifier\n",
    "from sklearn.model_selection import GridSearchCV\n",
    "\n",
    "clf = RandomForestClassifier(class_weight={1:3.67,0:1},n_jobs=-1,n_estimators=300, max_depth=12)\n",
    "clf.fit(X_train,y_train)\n",
    "# param_grid = {\n",
    "#     'bootstrap': [True],\n",
    "#     'max_depth': [10,12,14,16],\n",
    "#     'max_features': [3,4],\n",
    "#     'min_samples_leaf': [2,3],\n",
    "#     'min_samples_split': [6,8],\n",
    "#     'n_estimators': [20]\n",
    "# }\n",
    "\n",
    "# CV_rfc = GridSearchCV(estimator=clf, param_grid=param_grid, cv= 5)\n",
    "# CV_rfc.fit(X_train, y_train)\n",
    "# print(CV_rfc.best_params_)"
   ]
  },
  {
   "cell_type": "code",
   "execution_count": 23,
   "metadata": {},
   "outputs": [],
   "source": [
    "y_pred_rf = clf.predict(X_val)\n",
    "y_train_rf = clf.predict(X_train)"
   ]
  },
  {
   "cell_type": "code",
   "execution_count": 24,
   "metadata": {},
   "outputs": [
    {
     "name": "stdout",
     "output_type": "stream",
     "text": [
      "Train RF Accuracy: 0.6437486103472084\n",
      "Train RF Recall: 0.7575339448590381\n",
      "Train RF Precision: 0.36198197194259746\n",
      "Train RF F1: 0.4898789325960371\n",
      "Val RF Accuracy: 0.6309162292942946\n",
      "Val RF Recall: 0.7289518119236265\n",
      "Val RF Precision: 0.34769409957128344\n",
      "Val RF F1: 0.4708181978339109\n"
     ]
    }
   ],
   "source": [
    "print(\"Train RF Accuracy: \"+str(accuracy_score(y_train, y_train_rf)))\n",
    "print(\"Train RF Recall: \"+str(recall_score(y_train, y_train_rf)))\n",
    "print(\"Train RF Precision: \"+str(precision_score(y_train, y_train_rf)))\n",
    "print(\"Train RF F1: \"+str(f1_score(y_train, y_train_rf)))\n",
    "\n",
    "print(\"Val RF Accuracy: \"+str(accuracy_score(y_val, y_pred_rf)))\n",
    "print(\"Val RF Recall: \"+str(recall_score(y_val, y_pred_rf)))\n",
    "print(\"Val RF Precision: \"+str(precision_score(y_val, y_pred_rf)))\n",
    "print(\"Val RF F1: \"+str(f1_score(y_val, y_pred_rf)))"
   ]
  },
  {
   "cell_type": "code",
   "execution_count": null,
   "metadata": {},
   "outputs": [],
   "source": []
  }
 ],
 "metadata": {
  "kernelspec": {
   "display_name": "Python 3",
   "language": "python",
   "name": "python3"
  },
  "language_info": {
   "codemirror_mode": {
    "name": "ipython",
    "version": 3
   },
   "file_extension": ".py",
   "mimetype": "text/x-python",
   "name": "python",
   "nbconvert_exporter": "python",
   "pygments_lexer": "ipython3",
   "version": "3.6.5"
  }
 },
 "nbformat": 4,
 "nbformat_minor": 2
}
