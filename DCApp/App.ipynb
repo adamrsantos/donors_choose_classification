{
 "cells": [
  {
   "cell_type": "code",
   "execution_count": 1,
   "metadata": {},
   "outputs": [],
   "source": [
    "import pandas as pd\n",
    "import numpy as np\n",
    "\n",
    "import matplotlib.pyplot as plt\n",
    "import seaborn as sns\n",
    "plt.style.use('bmh')\n",
    "\n",
    "%matplotlib inline\n",
    "\n",
    "from sklearn.linear_model import LogisticRegression\n",
    "from sklearn.model_selection import train_test_split\n",
    "from sklearn.metrics import precision_score, recall_score, accuracy_score, roc_auc_score,f1_score\n",
    "from sklearn.preprocessing import StandardScaler\n",
    "import pickle"
   ]
  },
  {
   "cell_type": "code",
   "execution_count": 2,
   "metadata": {},
   "outputs": [],
   "source": [
    "with open('logistic_model_app.sav', 'rb') as f:\n",
    "    final_model = pickle.load(f)"
   ]
  },
  {
   "cell_type": "code",
   "execution_count": 3,
   "metadata": {},
   "outputs": [],
   "source": [
    "with open('Xcols_app', 'rb') as f:\n",
    "    cols = pickle.load(f)"
   ]
  },
  {
   "cell_type": "code",
   "execution_count": 4,
   "metadata": {},
   "outputs": [
    {
     "data": {
      "text/plain": [
       "[(0, 'Teacher Project Posted Sequence'),\n",
       " (1, 'Project Cost'),\n",
       " (2, 'month_x'),\n",
       " (3, 'Project Type_Professional Development'),\n",
       " (4, 'Project Type_Student-Led'),\n",
       " (5, 'Project Type_Teacher-Led'),\n",
       " (6, 'Project Subject Category Tree_Applied Learning'),\n",
       " (7, 'Project Subject Category Tree_Applied Learning, Health & Sports'),\n",
       " (8, 'Project Subject Category Tree_Applied Learning, History & Civics'),\n",
       " (9, 'Project Subject Category Tree_Applied Learning, Literacy & Language'),\n",
       " (10, 'Project Subject Category Tree_Applied Learning, Math & Science'),\n",
       " (11, 'Project Subject Category Tree_Applied Learning, Music & The Arts'),\n",
       " (12, 'Project Subject Category Tree_Applied Learning, Special Needs'),\n",
       " (13, 'Project Subject Category Tree_Applied Learning, Warmth, Care & Hunger'),\n",
       " (14, 'Project Subject Category Tree_Health & Sports'),\n",
       " (15, 'Project Subject Category Tree_Health & Sports, Applied Learning'),\n",
       " (16, 'Project Subject Category Tree_Health & Sports, History & Civics'),\n",
       " (17, 'Project Subject Category Tree_Health & Sports, Literacy & Language'),\n",
       " (18, 'Project Subject Category Tree_Health & Sports, Math & Science'),\n",
       " (19, 'Project Subject Category Tree_Health & Sports, Music & The Arts'),\n",
       " (20, 'Project Subject Category Tree_Health & Sports, Special Needs'),\n",
       " (21, 'Project Subject Category Tree_Health & Sports, Warmth, Care & Hunger'),\n",
       " (22, 'Project Subject Category Tree_History & Civics'),\n",
       " (23, 'Project Subject Category Tree_History & Civics, Applied Learning'),\n",
       " (24, 'Project Subject Category Tree_History & Civics, Health & Sports'),\n",
       " (25, 'Project Subject Category Tree_History & Civics, Literacy & Language'),\n",
       " (26, 'Project Subject Category Tree_History & Civics, Math & Science'),\n",
       " (27, 'Project Subject Category Tree_History & Civics, Music & The Arts'),\n",
       " (28, 'Project Subject Category Tree_History & Civics, Special Needs'),\n",
       " (29, 'Project Subject Category Tree_History & Civics, Warmth, Care & Hunger'),\n",
       " (30, 'Project Subject Category Tree_Literacy & Language'),\n",
       " (31, 'Project Subject Category Tree_Literacy & Language, Applied Learning'),\n",
       " (32, 'Project Subject Category Tree_Literacy & Language, Health & Sports'),\n",
       " (33, 'Project Subject Category Tree_Literacy & Language, History & Civics'),\n",
       " (34, 'Project Subject Category Tree_Literacy & Language, Math & Science'),\n",
       " (35, 'Project Subject Category Tree_Literacy & Language, Music & The Arts'),\n",
       " (36, 'Project Subject Category Tree_Literacy & Language, Special Needs'),\n",
       " (37,\n",
       "  'Project Subject Category Tree_Literacy & Language, Warmth, Care & Hunger'),\n",
       " (38, 'Project Subject Category Tree_Math & Science'),\n",
       " (39, 'Project Subject Category Tree_Math & Science, Applied Learning'),\n",
       " (40, 'Project Subject Category Tree_Math & Science, Health & Sports'),\n",
       " (41, 'Project Subject Category Tree_Math & Science, History & Civics'),\n",
       " (42, 'Project Subject Category Tree_Math & Science, Literacy & Language'),\n",
       " (43, 'Project Subject Category Tree_Math & Science, Music & The Arts'),\n",
       " (44, 'Project Subject Category Tree_Math & Science, Special Needs'),\n",
       " (45, 'Project Subject Category Tree_Math & Science, Warmth, Care & Hunger'),\n",
       " (46, 'Project Subject Category Tree_Music & The Arts'),\n",
       " (47, 'Project Subject Category Tree_Music & The Arts, Applied Learning'),\n",
       " (48, 'Project Subject Category Tree_Music & The Arts, Health & Sports'),\n",
       " (49, 'Project Subject Category Tree_Music & The Arts, History & Civics'),\n",
       " (50, 'Project Subject Category Tree_Music & The Arts, Special Needs'),\n",
       " (51, 'Project Subject Category Tree_Music & The Arts, Warmth, Care & Hunger'),\n",
       " (52, 'Project Subject Category Tree_Special Needs'),\n",
       " (53, 'Project Subject Category Tree_Special Needs, Health & Sports'),\n",
       " (54, 'Project Subject Category Tree_Special Needs, Music & The Arts'),\n",
       " (55, 'Project Subject Category Tree_Special Needs, Warmth, Care & Hunger'),\n",
       " (56, 'Project Subject Category Tree_Warmth, Care & Hunger'),\n",
       " (57, 'Project Grade Level Category_Grades 3-5'),\n",
       " (58, 'Project Grade Level Category_Grades 6-8'),\n",
       " (59, 'Project Grade Level Category_Grades 9-12'),\n",
       " (60, 'Project Grade Level Category_Grades PreK-2'),\n",
       " (61, 'Project Grade Level Category_unknown'),\n",
       " (62, 'Project Resource Category_Art Supplies'),\n",
       " (63, 'Project Resource Category_Books'),\n",
       " (64, 'Project Resource Category_Classroom Basics'),\n",
       " (65, 'Project Resource Category_Computers & Tablets'),\n",
       " (66, 'Project Resource Category_Educational Kits & Games'),\n",
       " (67, 'Project Resource Category_Flexible Seating'),\n",
       " (68, 'Project Resource Category_Food, Clothing & Hygiene'),\n",
       " (69, 'Project Resource Category_Instructional Technology'),\n",
       " (70, 'Project Resource Category_Lab Equipment'),\n",
       " (71, 'Project Resource Category_Musical Instruments'),\n",
       " (72, 'Project Resource Category_Other'),\n",
       " (73, 'Project Resource Category_Reading Nooks, Desks & Storage'),\n",
       " (74, 'Project Resource Category_Sports & Exercise Equipment'),\n",
       " (75, 'Project Resource Category_Supplies'),\n",
       " (76, 'Project Resource Category_Technology'),\n",
       " (77, 'Project Resource Category_Trips'),\n",
       " (78, 'Project Resource Category_Visitors'),\n",
       " (79, 'month_y'),\n",
       " (80, 'School Percentage Free Lunch'),\n",
       " (81, 'School Metro Type_rural'),\n",
       " (82, 'School Metro Type_suburban'),\n",
       " (83, 'School Metro Type_town'),\n",
       " (84, 'School Metro Type_unknown'),\n",
       " (85, 'School Metro Type_urban'),\n",
       " (86, 'Teacher Prefix_Dr.'),\n",
       " (87, 'Teacher Prefix_Mr.'),\n",
       " (88, 'Teacher Prefix_Mrs.'),\n",
       " (89, 'Teacher Prefix_Ms.'),\n",
       " (90, 'Teacher Prefix_Mx.'),\n",
       " (91, 'Teacher Prefix_Teacher'),\n",
       " (92, 'School State_Alabama'),\n",
       " (93, 'School State_Alaska'),\n",
       " (94, 'School State_Arizona'),\n",
       " (95, 'School State_Arkansas'),\n",
       " (96, 'School State_California'),\n",
       " (97, 'School State_Colorado'),\n",
       " (98, 'School State_Connecticut'),\n",
       " (99, 'School State_Delaware'),\n",
       " (100, 'School State_District of Columbia'),\n",
       " (101, 'School State_Florida'),\n",
       " (102, 'School State_Georgia'),\n",
       " (103, 'School State_Hawaii'),\n",
       " (104, 'School State_Idaho'),\n",
       " (105, 'School State_Illinois'),\n",
       " (106, 'School State_Indiana'),\n",
       " (107, 'School State_Iowa'),\n",
       " (108, 'School State_Kansas'),\n",
       " (109, 'School State_Kentucky'),\n",
       " (110, 'School State_Louisiana'),\n",
       " (111, 'School State_Maine'),\n",
       " (112, 'School State_Maryland'),\n",
       " (113, 'School State_Massachusetts'),\n",
       " (114, 'School State_Michigan'),\n",
       " (115, 'School State_Minnesota'),\n",
       " (116, 'School State_Mississippi'),\n",
       " (117, 'School State_Missouri'),\n",
       " (118, 'School State_Montana'),\n",
       " (119, 'School State_Nebraska'),\n",
       " (120, 'School State_Nevada'),\n",
       " (121, 'School State_New Hampshire'),\n",
       " (122, 'School State_New Jersey'),\n",
       " (123, 'School State_New Mexico'),\n",
       " (124, 'School State_New York'),\n",
       " (125, 'School State_North Carolina'),\n",
       " (126, 'School State_North Dakota'),\n",
       " (127, 'School State_Ohio'),\n",
       " (128, 'School State_Oklahoma'),\n",
       " (129, 'School State_Oregon'),\n",
       " (130, 'School State_Pennsylvania'),\n",
       " (131, 'School State_Rhode Island'),\n",
       " (132, 'School State_South Carolina'),\n",
       " (133, 'School State_South Dakota'),\n",
       " (134, 'School State_Tennessee'),\n",
       " (135, 'School State_Texas'),\n",
       " (136, 'School State_Utah'),\n",
       " (137, 'School State_Vermont'),\n",
       " (138, 'School State_Virginia'),\n",
       " (139, 'School State_Washington'),\n",
       " (140, 'School State_West Virginia'),\n",
       " (141, 'School State_Wisconsin'),\n",
       " (142, 'School State_Wyoming')]"
      ]
     },
     "execution_count": 4,
     "metadata": {},
     "output_type": "execute_result"
    }
   ],
   "source": [
    "np.set_printoptions(threshold=np.nan)\n",
    "cols=np.array(cols)\n",
    "dic = zip(range(len(cols)),cols)\n",
    "dic = list(dic)\n",
    "dic"
   ]
  },
  {
   "cell_type": "code",
   "execution_count": null,
   "metadata": {},
   "outputs": [],
   "source": [
    "def score():\n",
    "    \"\"\"\n",
    "    When A POST request with json data is made to this uri,\n",
    "    Read the example from the json, predict probability and\n",
    "    send it with a response\n",
    "    \"\"\"\n",
    "    \n",
    "    with open('logistic_model_app.sav', 'rb') as f:\n",
    "        final_model = pickle.load(f)\n",
    "        \n",
    "    with open('Xcols_app', 'rb') as f:\n",
    "        cols = pickle.load(f)\n",
    "        \n",
    "    cols=np.array(cols)\n",
    "    dic = zip(range(len(cols)),cols)\n",
    "    dic = list(dic)\n",
    "    # Get decision score for our example that came with the request\n",
    "    test = flask.request.json\n",
    "    x = np.array(test)\n",
    "    #Convert input data into dummified variables\n",
    "    vals = np.zeros(143)\n",
    "    vals[1]=test[1]\n",
    "    for i in range(3,6):\n",
    "        for j in range(len(dic)):\n",
    "            if test[i] in dic[j][1]:\n",
    "                vals[j]=1\n",
    "    #Fill in values that aren't included in sample app\n",
    "    vals[79]=9\n",
    "    vals[80]=60\n",
    "    vals[85]=1\n",
    "    vals[87]=1\n",
    "    vals[124]=1\n",
    "    \n",
    "    pred_value = final_model.predict_proba(vals.reshape(1, -1))\n",
    "    \n",
    "    \n",
    "    if pred_value[0][0] > 0.7:\n",
    "        message = \"Your project looks great and has a good chance to receive full funding. /n Remember to check back consistently and fundraise!\"\n",
    "    if pred_value[0][0] > 0.4:\n",
    "        message = \"Your project is coming along but we think there are some things to improve. Chat with someone at Donors Choose for suggestions.\"\n",
    "    else:\n",
    "        message = \"Something looks a little off. You may want to reconsider parts of your project.\"\n",
    "    results = {\"score\": message}\n",
    "    return flask.jsonify(results)"
   ]
  },
  {
   "cell_type": "code",
   "execution_count": 5,
   "metadata": {},
   "outputs": [],
   "source": [
    "test=['Test Case', '200.00', 'Professional Development', 'Math & Science', 'Grades 6-8', 'Books']"
   ]
  },
  {
   "cell_type": "code",
   "execution_count": 6,
   "metadata": {},
   "outputs": [],
   "source": [
    "vals = np.zeros(143)"
   ]
  },
  {
   "cell_type": "code",
   "execution_count": 7,
   "metadata": {},
   "outputs": [],
   "source": [
    "vals[1]=test[1]\n",
    "for i in range(3,6):\n",
    "    for j in range(len(dic)):\n",
    "        if test[i] in dic[j][1]:\n",
    "            vals[j]=1\n",
    "vals[79]=9\n",
    "vals[80]=60\n",
    "vals[85]=1\n",
    "vals[87]=1\n",
    "vals[124]=1"
   ]
  },
  {
   "cell_type": "code",
   "execution_count": 8,
   "metadata": {},
   "outputs": [
    {
     "data": {
      "text/plain": [
       "array([  0., 200.,   0.,   0.,   0.,   0.,   0.,   0.,   0.,   0.,   1.,\n",
       "         0.,   0.,   0.,   0.,   0.,   0.,   0.,   1.,   0.,   0.,   0.,\n",
       "         0.,   0.,   0.,   0.,   1.,   0.,   0.,   0.,   0.,   0.,   0.,\n",
       "         0.,   1.,   0.,   0.,   0.,   1.,   1.,   1.,   1.,   1.,   1.,\n",
       "         1.,   1.,   0.,   0.,   0.,   0.,   0.,   0.,   0.,   0.,   0.,\n",
       "         0.,   0.,   0.,   1.,   0.,   0.,   0.,   0.,   1.,   0.,   0.,\n",
       "         0.,   0.,   0.,   0.,   0.,   0.,   0.,   0.,   0.,   0.,   0.,\n",
       "         0.,   0.,   9.,  60.,   0.,   0.,   0.,   0.,   1.,   0.,   1.,\n",
       "         0.,   0.,   0.,   0.,   0.,   0.,   0.,   0.,   0.,   0.,   0.,\n",
       "         0.,   0.,   0.,   0.,   0.,   0.,   0.,   0.,   0.,   0.,   0.,\n",
       "         0.,   0.,   0.,   0.,   0.,   0.,   0.,   0.,   0.,   0.,   0.,\n",
       "         0.,   0.,   0.,   1.,   0.,   0.,   0.,   0.,   0.,   0.,   0.,\n",
       "         0.,   0.,   0.,   0.,   0.,   0.,   0.,   0.,   0.,   0.,   0.])"
      ]
     },
     "execution_count": 8,
     "metadata": {},
     "output_type": "execute_result"
    }
   ],
   "source": [
    "vals"
   ]
  },
  {
   "cell_type": "code",
   "execution_count": 9,
   "metadata": {},
   "outputs": [],
   "source": [
    "pred_value = final_model.predict_proba(vals.reshape(1, -1))"
   ]
  },
  {
   "cell_type": "code",
   "execution_count": 11,
   "metadata": {},
   "outputs": [
    {
     "data": {
      "text/plain": [
       "0.892951582773461"
      ]
     },
     "execution_count": 11,
     "metadata": {},
     "output_type": "execute_result"
    }
   ],
   "source": [
    "pred_value[0][0]"
   ]
  },
  {
   "cell_type": "code",
   "execution_count": null,
   "metadata": {},
   "outputs": [],
   "source": []
  }
 ],
 "metadata": {
  "kernelspec": {
   "display_name": "Python 3",
   "language": "python",
   "name": "python3"
  },
  "language_info": {
   "codemirror_mode": {
    "name": "ipython",
    "version": 3
   },
   "file_extension": ".py",
   "mimetype": "text/x-python",
   "name": "python",
   "nbconvert_exporter": "python",
   "pygments_lexer": "ipython3",
   "version": "3.6.5"
  }
 },
 "nbformat": 4,
 "nbformat_minor": 2
}
